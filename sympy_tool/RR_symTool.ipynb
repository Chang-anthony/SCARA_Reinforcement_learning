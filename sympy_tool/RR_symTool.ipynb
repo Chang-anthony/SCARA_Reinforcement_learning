{
 "cells": [
  {
   "cell_type": "code",
   "execution_count": 3,
   "metadata": {},
   "outputs": [
    {
     "ename": "ModuleNotFoundError",
     "evalue": "No module named 'sympy_tool'",
     "output_type": "error",
     "traceback": [
      "\u001b[0;31m---------------------------------------------------------------------------\u001b[0m",
      "\u001b[0;31mModuleNotFoundError\u001b[0m                       Traceback (most recent call last)",
      "\u001b[0;32m/tmp/ipykernel_164450/2436458998.py\u001b[0m in \u001b[0;36m<module>\u001b[0;34m\u001b[0m\n\u001b[1;32m      8\u001b[0m \u001b[0msympy\u001b[0m\u001b[0;34m.\u001b[0m\u001b[0minit_printing\u001b[0m\u001b[0;34m(\u001b[0m\u001b[0muse_latex\u001b[0m\u001b[0;34m=\u001b[0m\u001b[0;34m'mathjax'\u001b[0m\u001b[0;34m)\u001b[0m\u001b[0;34m\u001b[0m\u001b[0;34m\u001b[0m\u001b[0m\n\u001b[1;32m      9\u001b[0m \u001b[0;32mfrom\u001b[0m \u001b[0mIPython\u001b[0m\u001b[0;34m.\u001b[0m\u001b[0mdisplay\u001b[0m \u001b[0;32mimport\u001b[0m \u001b[0mdisplay\u001b[0m\u001b[0;34m\u001b[0m\u001b[0;34m\u001b[0m\u001b[0m\n\u001b[0;32m---> 10\u001b[0;31m \u001b[0;32mfrom\u001b[0m \u001b[0msympy_tool\u001b[0m\u001b[0;34m.\u001b[0m\u001b[0mRobot_sympy\u001b[0m \u001b[0;32mimport\u001b[0m \u001b[0mRobot_Sympy\u001b[0m\u001b[0;34m\u001b[0m\u001b[0;34m\u001b[0m\u001b[0m\n\u001b[0m\u001b[1;32m     11\u001b[0m \u001b[0;32mfrom\u001b[0m \u001b[0msympy_tool\u001b[0m\u001b[0;34m.\u001b[0m\u001b[0mSympyTool\u001b[0m \u001b[0;32mimport\u001b[0m \u001b[0mSympyTool\u001b[0m\u001b[0;34m\u001b[0m\u001b[0;34m\u001b[0m\u001b[0m\n",
      "\u001b[0;31mModuleNotFoundError\u001b[0m: No module named 'sympy_tool'"
     ]
    }
   ],
   "source": [
    "'''\n",
    "    Lagarange_equation_RR \n",
    "    anthor : anthony Create on  2022 10 01\n",
    "'''\n",
    "import sympy\n",
    "import math\n",
    "import numpy as np\n",
    "sympy.init_printing(use_latex='mathjax')\n",
    "from IPython.display import display\n",
    "from sympy_tool.Robot_sympy import Robot_Sympy\n",
    "from sympy_tool.SympyTool import SympyTool"
   ]
  },
  {
   "cell_type": "code",
   "execution_count": 2,
   "metadata": {},
   "outputs": [],
   "source": [
    "n = 2\n",
    "mass = sympy.symbols(f'm0:{n}')\n",
    "I = [sympy.eye(3),sympy.eye(3)]\n",
    "Pc = [sympy.eye(4),sympy.eye(4)]\n",
    "l1 = sympy.Symbol('l1')\n",
    "l2 = sympy.Symbol('l2')\n",
    "\n",
    "a = sympy.Symbol('a')\n",
    "alpha = sympy.Symbol('α')\n",
    "theta = sympy.Symbol('θ')\n",
    "d = sympy.Symbol('d')\n",
    "q = sympy.symbols(f'q0:{n}')\n",
    "tool = Robot_Sympy()\n",
    "\n",
    "test = tool.RTRT(a,alpha,d,theta)\n",
    "test2 = tool.RTTR(a,alpha,d,theta)\n",
    "    \n",
    "\n",
    "T1 = tool.RTTR(l1,0,0,q[0])\n",
    "T2 = tool.RTTR(l2,0,0,q[1])\n",
    "# T3 = tool.RTTR(l2,0,0,0)\n",
    "Ti = [] \n",
    "Ti.append(T1 )\n",
    "Ti.append(T1 @ T2 )\n",
    "rotate_axis = ['z','z']\n",
    "\n",
    "M,V,C,G,Jv,Jw,KE,Ki,PE = tool.Lagarange(n,Ti,rotate_axis,mass,Pc,'y',None)"
   ]
  },
  {
   "cell_type": "code",
   "execution_count": 3,
   "metadata": {},
   "outputs": [
    {
     "data": {
      "text/latex": [
       "$\\displaystyle \\left[ \\left[\\begin{matrix}- \\sin{\\left(q_{0} \\right)} \\sin{\\left(q_{1} \\right)} + \\cos{\\left(q_{0} \\right)} \\cos{\\left(q_{1} \\right)} & - \\sin{\\left(q_{0} \\right)} \\cos{\\left(q_{1} \\right)} - \\sin{\\left(q_{1} \\right)} \\cos{\\left(q_{0} \\right)} & 0 & l_{1} \\cos{\\left(q_{0} \\right)}\\\\\\sin{\\left(q_{0} \\right)} \\cos{\\left(q_{1} \\right)} + \\sin{\\left(q_{1} \\right)} \\cos{\\left(q_{0} \\right)} & - \\sin{\\left(q_{0} \\right)} \\sin{\\left(q_{1} \\right)} + \\cos{\\left(q_{0} \\right)} \\cos{\\left(q_{1} \\right)} & 0 & l_{1} \\sin{\\left(q_{0} \\right)}\\\\0 & 0 & 1 & 0\\\\0 & 0 & 0 & 1\\end{matrix}\\right], \\  \\left[\\begin{matrix}- \\sin{\\left(q_{0} \\right)} \\sin{\\left(q_{1} \\right)} + \\cos{\\left(q_{0} \\right)} \\cos{\\left(q_{1} \\right)} & - \\sin{\\left(q_{0} \\right)} \\cos{\\left(q_{1} \\right)} - \\sin{\\left(q_{1} \\right)} \\cos{\\left(q_{0} \\right)} & 0 & l_{1} \\cos{\\left(q_{0} \\right)} + l_{2} \\left(- \\sin{\\left(q_{0} \\right)} \\sin{\\left(q_{1} \\right)} + \\cos{\\left(q_{0} \\right)} \\cos{\\left(q_{1} \\right)}\\right)\\\\\\sin{\\left(q_{0} \\right)} \\cos{\\left(q_{1} \\right)} + \\sin{\\left(q_{1} \\right)} \\cos{\\left(q_{0} \\right)} & - \\sin{\\left(q_{0} \\right)} \\sin{\\left(q_{1} \\right)} + \\cos{\\left(q_{0} \\right)} \\cos{\\left(q_{1} \\right)} & 0 & l_{1} \\sin{\\left(q_{0} \\right)} + l_{2} \\left(\\sin{\\left(q_{0} \\right)} \\cos{\\left(q_{1} \\right)} + \\sin{\\left(q_{1} \\right)} \\cos{\\left(q_{0} \\right)}\\right)\\\\0 & 0 & 1 & 0\\\\0 & 0 & 0 & 1\\end{matrix}\\right]\\right]$"
      ],
      "text/plain": [
       "⎡⎡-sin(q₀)⋅sin(q₁) + cos(q₀)⋅cos(q₁)  -sin(q₀)⋅cos(q₁) - sin(q₁)⋅cos(q₀)  0  l\n",
       "⎢⎢                                                                            \n",
       "⎢⎢sin(q₀)⋅cos(q₁) + sin(q₁)⋅cos(q₀)   -sin(q₀)⋅sin(q₁) + cos(q₀)⋅cos(q₁)  0  l\n",
       "⎢⎢                                                                            \n",
       "⎢⎢                0                                   0                   1   \n",
       "⎢⎢                                                                            \n",
       "⎣⎣                0                                   0                   0   \n",
       "\n",
       "₁⋅cos(q₀)⎤  ⎡-sin(q₀)⋅sin(q₁) + cos(q₀)⋅cos(q₁)  -sin(q₀)⋅cos(q₁) - sin(q₁)⋅co\n",
       "         ⎥  ⎢                                                                 \n",
       "₁⋅sin(q₀)⎥  ⎢sin(q₀)⋅cos(q₁) + sin(q₁)⋅cos(q₀)   -sin(q₀)⋅sin(q₁) + cos(q₀)⋅co\n",
       "         ⎥, ⎢                                                                 \n",
       "   0     ⎥  ⎢                0                                   0            \n",
       "         ⎥  ⎢                                                                 \n",
       "   1     ⎦  ⎣                0                                   0            \n",
       "\n",
       "s(q₀)  0  l₁⋅cos(q₀) + l₂⋅(-sin(q₀)⋅sin(q₁) + cos(q₀)⋅cos(q₁))⎤⎤\n",
       "                                                              ⎥⎥\n",
       "s(q₁)  0  l₁⋅sin(q₀) + l₂⋅(sin(q₀)⋅cos(q₁) + sin(q₁)⋅cos(q₀)) ⎥⎥\n",
       "                                                              ⎥⎥\n",
       "       1                           0                          ⎥⎥\n",
       "                                                              ⎥⎥\n",
       "       0                           1                          ⎦⎦"
      ]
     },
     "metadata": {},
     "output_type": "display_data"
    },
    {
     "data": {
      "text/latex": [
       "$\\displaystyle \\left[\\begin{matrix}\\left[\\begin{matrix}- l_{1} \\sin{\\left(q_{0} \\right)} & 0\\\\l_{1} \\cos{\\left(q_{0} \\right)} & 0\\\\0 & 0\\end{matrix}\\right] & \\left[\\begin{matrix}- l_{1} \\sin{\\left(q_{0} \\right)} - l_{2} \\sin{\\left(q_{0} + q_{1} \\right)} & - l_{2} \\sin{\\left(q_{0} + q_{1} \\right)}\\\\l_{1} \\cos{\\left(q_{0} \\right)} + l_{2} \\cos{\\left(q_{0} + q_{1} \\right)} & l_{2} \\cos{\\left(q_{0} + q_{1} \\right)}\\\\0 & 0\\end{matrix}\\right]\\end{matrix}\\right]$"
      ],
      "text/plain": [
       "⎡⎡-l₁⋅sin(q₀)  0⎤  ⎡-l₁⋅sin(q₀) - l₂⋅sin(q₀ + q₁)  -l₂⋅sin(q₀ + q₁)⎤⎤\n",
       "⎢⎢              ⎥  ⎢                                               ⎥⎥\n",
       "⎢⎢l₁⋅cos(q₀)   0⎥  ⎢l₁⋅cos(q₀) + l₂⋅cos(q₀ + q₁)   l₂⋅cos(q₀ + q₁) ⎥⎥\n",
       "⎢⎢              ⎥  ⎢                                               ⎥⎥\n",
       "⎣⎣     0       0⎦  ⎣              0                       0        ⎦⎦"
      ]
     },
     "metadata": {},
     "output_type": "display_data"
    },
    {
     "name": "stderr",
     "output_type": "stream",
     "text": [
      "/home/anthony/.local/lib/python3.8/site-packages/sympy/matrices/repmatrix.py:98: SymPyDeprecationWarning: \n",
      "\n",
      "non-Expr objects in a Matrix has been deprecated since SymPy 1.9. Use\n",
      "list of lists, TableForm or some other data structure instead. See\n",
      "https://github.com/sympy/sympy/issues/21497 for more info.\n",
      "\n",
      "  SymPyDeprecationWarning(\n"
     ]
    },
    {
     "data": {
      "text/latex": [
       "$\\displaystyle \\left[\\begin{matrix}\\left[\\begin{matrix}\\left[\\begin{matrix}0\\end{matrix}\\right] & \\mathtt{\\text{0}}\\\\\\left[\\begin{matrix}0\\end{matrix}\\right] & \\mathtt{\\text{0}}\\\\\\left[\\begin{matrix}1\\end{matrix}\\right] & \\mathtt{\\text{0}}\\end{matrix}\\right] & \\left[\\begin{matrix}\\left[\\begin{matrix}0\\end{matrix}\\right] & \\left[\\begin{matrix}0\\end{matrix}\\right]\\\\\\left[\\begin{matrix}0\\end{matrix}\\right] & \\left[\\begin{matrix}0\\end{matrix}\\right]\\\\\\left[\\begin{matrix}1\\end{matrix}\\right] & \\left[\\begin{matrix}1\\end{matrix}\\right]\\end{matrix}\\right]\\end{matrix}\\right]$"
      ],
      "text/plain": [
       "⎡⎡[0]  0⎤  ⎡[0]  [0]⎤⎤\n",
       "⎢⎢      ⎥  ⎢        ⎥⎥\n",
       "⎢⎢[0]  0⎥  ⎢[0]  [0]⎥⎥\n",
       "⎢⎢      ⎥  ⎢        ⎥⎥\n",
       "⎣⎣[1]  0⎦  ⎣[1]  [1]⎦⎦"
      ]
     },
     "metadata": {},
     "output_type": "display_data"
    }
   ],
   "source": [
    "display(test)\n",
    "display(test2)\n",
    "\n",
    "display(T2)\n",
    "\n",
    "display(Ti)\n",
    "display(Jv)\n",
    "display(Jw)"
   ]
  },
  {
   "cell_type": "code",
   "execution_count": 4,
   "metadata": {},
   "outputs": [
    {
     "data": {
      "text/latex": [
       "$\\displaystyle \\left[\\begin{matrix}l_{1}^{2} m_{0} + m_{1} \\left(l_{1}^{2} + 2 l_{1} l_{2} \\cos{\\left(q_{1} \\right)} + l_{2}^{2}\\right) & l_{2} m_{1} \\left(l_{1} \\cos{\\left(q_{1} \\right)} + l_{2}\\right)\\\\l_{2} m_{1} \\left(l_{1} \\cos{\\left(q_{1} \\right)} + l_{2}\\right) & l_{2}^{2} m_{1}\\end{matrix}\\right]$"
      ],
      "text/plain": [
       "⎡  2         ⎛  2                       2⎞                         ⎤\n",
       "⎢l₁ ⋅m₀ + m₁⋅⎝l₁  + 2⋅l₁⋅l₂⋅cos(q₁) + l₂ ⎠  l₂⋅m₁⋅(l₁⋅cos(q₁) + l₂)⎥\n",
       "⎢                                                                  ⎥\n",
       "⎢                                                     2            ⎥\n",
       "⎣         l₂⋅m₁⋅(l₁⋅cos(q₁) + l₂)                   l₂ ⋅m₁         ⎦"
      ]
     },
     "metadata": {},
     "output_type": "display_data"
    },
    {
     "data": {
      "text/latex": [
       "$\\displaystyle \\left[\\begin{matrix}- 1.0 l_{1} l_{2} m_{1} qd_{1} \\sin{\\left(q_{1} \\right)} & - 1.0 l_{1} l_{2} m_{1} \\left(qd_{0} + qd_{1}\\right) \\sin{\\left(q_{1} \\right)}\\\\1.0 l_{1} l_{2} m_{1} qd_{0} \\sin{\\left(q_{1} \\right)} & 0\\end{matrix}\\right]$"
      ],
      "text/plain": [
       "⎡-1.0⋅l₁⋅l₂⋅m₁⋅qd₁⋅sin(q₁)  -1.0⋅l₁⋅l₂⋅m₁⋅(qd₀ + qd₁)⋅sin(q₁)⎤\n",
       "⎢                                                            ⎥\n",
       "⎣1.0⋅l₁⋅l₂⋅m₁⋅qd₀⋅sin(q₁)                   0                ⎦"
      ]
     },
     "metadata": {},
     "output_type": "display_data"
    },
    {
     "data": {
      "text/latex": [
       "$\\displaystyle \\left[\\begin{matrix}- 1.0 l_{1} l_{2} m_{1} qd_{0} qd_{1} \\sin{\\left(q_{1} \\right)} - 1.0 l_{1} l_{2} m_{1} qd_{1} \\left(qd_{0} + qd_{1}\\right) \\sin{\\left(q_{1} \\right)}\\\\1.0 l_{1} l_{2} m_{1} qd_{0}^{2} \\sin{\\left(q_{1} \\right)}\\end{matrix}\\right]$"
      ],
      "text/plain": [
       "⎡-l₁⋅l₂⋅m₁⋅qd₀⋅qd₁⋅sin(q₁) - l₁⋅l₂⋅m₁⋅qd₁⋅(qd₀ + qd₁)⋅sin(q₁)⎤\n",
       "⎢                                                            ⎥\n",
       "⎢                                 2                          ⎥\n",
       "⎣                 1.0⋅l₁⋅l₂⋅m₁⋅qd₀ ⋅sin(q₁)                  ⎦"
      ]
     },
     "metadata": {},
     "output_type": "display_data"
    },
    {
     "data": {
      "text/latex": [
       "$\\displaystyle \\left[\\begin{matrix}g \\left(l_{1} m_{0} \\cos{\\left(q_{0} \\right)} + m_{1} \\left(l_{1} \\cos{\\left(q_{0} \\right)} + l_{2} \\cos{\\left(q_{0} + q_{1} \\right)}\\right)\\right)\\\\g l_{2} m_{1} \\cos{\\left(q_{0} + q_{1} \\right)}\\end{matrix}\\right]$"
      ],
      "text/plain": [
       "⎡g⋅(l₁⋅m₀⋅cos(q₀) + m₁⋅(l₁⋅cos(q₀) + l₂⋅cos(q₀ + q₁)))⎤\n",
       "⎢                                                     ⎥\n",
       "⎣                g⋅l₂⋅m₁⋅cos(q₀ + q₁)                 ⎦"
      ]
     },
     "metadata": {},
     "output_type": "display_data"
    }
   ],
   "source": [
    "display(M)\n",
    "display(C)\n",
    "display(V)\n",
    "display(G)"
   ]
  },
  {
   "cell_type": "code",
   "execution_count": null,
   "metadata": {},
   "outputs": [],
   "source": []
  }
 ],
 "metadata": {
  "kernelspec": {
   "display_name": "Python 3.8.10 64-bit",
   "language": "python",
   "name": "python3"
  },
  "language_info": {
   "codemirror_mode": {
    "name": "ipython",
    "version": 3
   },
   "file_extension": ".py",
   "mimetype": "text/x-python",
   "name": "python",
   "nbconvert_exporter": "python",
   "pygments_lexer": "ipython3",
   "version": "3.8.10 (default, Nov 14 2022, 12:59:47) \n[GCC 9.4.0]"
  },
  "orig_nbformat": 4,
  "vscode": {
   "interpreter": {
    "hash": "916dbcbb3f70747c44a77c7bcd40155683ae19c65e1c03b4aa3499c5328201f1"
   }
  }
 },
 "nbformat": 4,
 "nbformat_minor": 2
}
